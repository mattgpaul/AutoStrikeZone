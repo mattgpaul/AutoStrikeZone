{
 "cells": [
  {
   "cell_type": "markdown",
   "metadata": {},
   "source": [
    "# Introduction\n",
    "\n",
    "Currently, the MLB uses human umpires to determine ball/strike calls at home plate for each pitch in a baseball game. While it has been the standard since the sport's inception, there are some that believe an update is needed to the game that automates this process, primarily for the purpose of accuracy. A machine with sensors (photogrammetry, videography, radar, lidar) can much better detect the exact location of a baseball as it crosses home plate than the human eye can, regardless of hours of training a person to perform this action.\n",
    "\n",
    "Independent of whether this notion of \"upgrading the game\" is correct or not, it poses an interesting machine learning problem: Can a model accurately create the strikezone for each player that comes to the plate?\n",
    "\n",
    "The answer is \"yes\", but how would it be performed? This script will take information from the MLB statcast for each pitch in a particular time period, and for each particular player up to bat. From there it will attempt to categorize balls and strikes based on each player.\n",
    "\n",
    "The biggest limitation to the data for this model will undoubtedly be the \"ball/strike\" as called by the umpire. Since we have no other way (at the moment) to create a better strike zone from scratch, we can only use the one established by each umpire. This comes with human error, since sometimes the umpires get it wrong (hence the desire for this model in the first place). An assumption will be made in the beginning that these erreneous calls can be considered \"outliers\" and will not affect the models ability to generalize. However, if it becomes too much of a factor, we will need to perform some data cleaning in order to remedy the situation."
   ]
  },
  {
   "cell_type": "code",
   "execution_count": null,
   "metadata": {},
   "outputs": [],
   "source": []
  }
 ],
 "metadata": {
  "language_info": {
   "name": "python"
  },
  "orig_nbformat": 4
 },
 "nbformat": 4,
 "nbformat_minor": 2
}
